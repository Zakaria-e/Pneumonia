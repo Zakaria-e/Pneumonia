{
 "cells": [
  {
   "cell_type": "code",
   "execution_count": 1,
   "metadata": {},
   "outputs": [
    {
     "name": "stdout",
     "output_type": "stream",
     "text": [
      "Requirement already up-to-date: pydicom in c:\\users\\chono\\miniconda3\\lib\\site-packages (1.2.2)\n"
     ]
    },
    {
     "name": "stderr",
     "output_type": "stream",
     "text": [
      "The syntax of the command is incorrect.\n",
      "'cp' is not recognized as an internal or external command,\n",
      "operable program or batch file.\n",
      "Traceback (most recent call last):\n",
      "  File \"c:\\users\\chono\\miniconda3\\lib\\runpy.py\", line 193, in _run_module_as_main\n",
      "    \"__main__\", mod_spec)\n",
      "  File \"c:\\users\\chono\\miniconda3\\lib\\runpy.py\", line 85, in _run_code\n",
      "    exec(code, run_globals)\n",
      "  File \"C:\\Users\\chono\\Miniconda3\\Scripts\\kaggle.exe\\__main__.py\", line 5, in <module>\n",
      "  File \"c:\\users\\chono\\miniconda3\\lib\\site-packages\\kaggle\\__init__.py\", line 23, in <module>\n",
      "    api.authenticate()\n",
      "  File \"c:\\users\\chono\\miniconda3\\lib\\site-packages\\kaggle\\api\\kaggle_api_extended.py\", line 116, in authenticate\n",
      "    self.config_file, self.config_dir))\n",
      "OSError: Could not find kaggle.json. Make sure it's located in C:\\Users\\chono\\.kaggle. Or use the environment method.\n"
     ]
    },
    {
     "name": "stdout",
     "output_type": "stream",
     "text": [
      "Requirement already up-to-date: pydicom in c:\\users\\chono\\miniconda3\\lib\\site-packages (1.2.2)\n"
     ]
    },
    {
     "name": "stderr",
     "output_type": "stream",
     "text": [
      "The syntax of the command is incorrect.\n",
      "'cp' is not recognized as an internal or external command,\n",
      "operable program or batch file.\n",
      "Traceback (most recent call last):\n",
      "  File \"c:\\users\\chono\\miniconda3\\lib\\runpy.py\", line 193, in _run_module_as_main\n",
      "    \"__main__\", mod_spec)\n",
      "  File \"c:\\users\\chono\\miniconda3\\lib\\runpy.py\", line 85, in _run_code\n",
      "    exec(code, run_globals)\n",
      "  File \"C:\\Users\\chono\\Miniconda3\\Scripts\\kaggle.exe\\__main__.py\", line 5, in <module>\n",
      "  File \"c:\\users\\chono\\miniconda3\\lib\\site-packages\\kaggle\\__init__.py\", line 23, in <module>\n",
      "    api.authenticate()\n",
      "  File \"c:\\users\\chono\\miniconda3\\lib\\site-packages\\kaggle\\api\\kaggle_api_extended.py\", line 116, in authenticate\n",
      "    self.config_file, self.config_dir))\n",
      "OSError: Could not find kaggle.json. Make sure it's located in C:\\Users\\chono\\.kaggle. Or use the environment method.\n",
      "Traceback (most recent call last):\n",
      "  File \"c:\\users\\chono\\miniconda3\\lib\\runpy.py\", line 193, in _run_module_as_main\n",
      "    \"__main__\", mod_spec)\n",
      "  File \"c:\\users\\chono\\miniconda3\\lib\\runpy.py\", line 85, in _run_code\n",
      "    exec(code, run_globals)\n",
      "  File \"C:\\Users\\chono\\Miniconda3\\Scripts\\kaggle.exe\\__main__.py\", line 5, in <module>\n",
      "  File \"c:\\users\\chono\\miniconda3\\lib\\site-packages\\kaggle\\__init__.py\", line 23, in <module>\n",
      "    api.authenticate()\n",
      "  File \"c:\\users\\chono\\miniconda3\\lib\\site-packages\\kaggle\\api\\kaggle_api_extended.py\", line 116, in authenticate\n",
      "    self.config_file, self.config_dir))\n",
      "OSError: Could not find kaggle.json. Make sure it's located in C:\\Users\\chono\\.kaggle. Or use the environment method.\n",
      "'unzip' is not recognized as an internal or external command,\n",
      "operable program or batch file.\n",
      "'unzip' is not recognized as an internal or external command,\n",
      "operable program or batch file.\n",
      "'unzip' is not recognized as an internal or external command,\n",
      "operable program or batch file.\n",
      "'unzip' is not recognized as an internal or external command,\n",
      "operable program or batch file.\n"
     ]
    }
   ],
   "source": [
    "\n",
    "#this code just imports data from kaggle to google colab\n",
    "for i in range (1,3):\n",
    "  !pip install -U pydicom\n",
    "  key={\"username\":\"chonorat\",\"key\":\"372dd2c0fad0556f067a3eb0452e8f77\"}\n",
    "  import json\n",
    "  out_file = open(\"kaggle.json\",'w+') \n",
    "  json.dump(key,out_file) \n",
    "  !pip install -U -q kaggle\n",
    "  !mkdir -p ~/.kaggle\n",
    "  !cp kaggle.json ~/.kaggle/\n",
    "  !kaggle datasets list\n",
    "!kaggle competitions download -c rsna-pneumonia-detection-challenge\n",
    "!unzip stage_2_train_images.zip -d train_images\n",
    "!unzip stage_2_test_images.zip -d test_images\n",
    "!unzip stage_2_detailed_class_info.csv.zip \n",
    "!unzip stage_2_train_labels.csv.zip"
   ]
  },
  {
   "cell_type": "code",
   "execution_count": null,
   "metadata": {},
   "outputs": [],
   "source": []
  },
  {
   "cell_type": "code",
   "execution_count": null,
   "metadata": {},
   "outputs": [],
   "source": []
  }
 ],
 "metadata": {
  "kernelspec": {
   "display_name": "Python 3",
   "language": "python",
   "name": "python3"
  },
  "language_info": {
   "codemirror_mode": {
    "name": "ipython",
    "version": 3
   },
   "file_extension": ".py",
   "mimetype": "text/x-python",
   "name": "python",
   "nbconvert_exporter": "python",
   "pygments_lexer": "ipython3",
   "version": "3.7.1"
  },
  "toc": {
   "base_numbering": 1,
   "nav_menu": {},
   "number_sections": true,
   "sideBar": true,
   "skip_h1_title": false,
   "title_cell": "Table of Contents",
   "title_sidebar": "Contents",
   "toc_cell": false,
   "toc_position": {},
   "toc_section_display": true,
   "toc_window_display": false
  }
 },
 "nbformat": 4,
 "nbformat_minor": 2
}
